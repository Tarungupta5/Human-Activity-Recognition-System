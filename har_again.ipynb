{
 "cells": [
  {
   "cell_type": "code",
   "execution_count": null,
   "metadata": {},
   "outputs": [],
   "source": [
    "import numpy as np\n",
    "import pandas as pd\n",
    "from sklearn.metrics import accuracy_score\n",
    "import matplotlib.pyplot as plt\n",
    "from sklearn.tree import DecisionTreeClassifier\n",
    "from sklearn.linear_model import LogisticRegression\n",
    "from sklearn.feature_selection import SelectKBest\n",
    "from sklearn.feature_selection import chi2"
   ]
  },
  {
   "cell_type": "code",
   "execution_count": null,
   "metadata": {},
   "outputs": [],
   "source": [
    "train_dataset = pd.read_csv(r'C:\\Users\\TARUN GUPTA\\Desktop\\supervise learning\\simplifiedhuarus\\train.csv')\n",
    "train_dataset.head()"
   ]
  },
  {
   "cell_type": "code",
   "execution_count": null,
   "metadata": {
    "scrolled": true
   },
   "outputs": [],
   "source": [
    "pd.isnull(train_dataset)"
   ]
  },
  {
   "cell_type": "code",
   "execution_count": null,
   "metadata": {
    "scrolled": true
   },
   "outputs": [],
   "source": [
    "from sklearn.preprocessing import LabelEncoder\n",
    "number=LabelEncoder()\n",
    "train_dataset['activity']=number.fit_transform(train_dataset['activity'].astype('str'))\n",
    "print(train_dataset)"
   ]
  },
  {
   "cell_type": "code",
   "execution_count": null,
   "metadata": {},
   "outputs": [],
   "source": [
    "train_dataset=abs(train_dataset)\n",
    "print(train_dataset)"
   ]
  },
  {
   "cell_type": "code",
   "execution_count": null,
   "metadata": {},
   "outputs": [],
   "source": [
    "X=train_dataset.iloc[:,2:]\n",
    "print(X.shape)\n",
    "y = train_dataset.iloc[:,1:2]\n",
    "print(y.shape)\n",
    "print(type(train_dataset))"
   ]
  },
  {
   "cell_type": "markdown",
   "metadata": {},
   "source": [
    "# Feature selection"
   ]
  },
  {
   "cell_type": "code",
   "execution_count": null,
   "metadata": {},
   "outputs": [],
   "source": [
    "chi2_features = SelectKBest(chi2, k = 105) \n",
    "print(type(chi2_features))\n",
    "X_kbest_features = chi2_features.fit_transform(X, y) \n",
    "print(type(X_kbest_features))\n",
    "X_kbest_features = pd.DataFrame(X_kbest_features)\n",
    "print('Original feature number:', X.shape[1]) \n",
    "print('Reduced feature number:', X_kbest_features.shape[1]) \n",
    "print(X_kbest_features.head())"
   ]
  },
  {
   "cell_type": "code",
   "execution_count": null,
   "metadata": {},
   "outputs": [],
   "source": [
    "from sklearn.model_selection import train_test_split\n",
    "X_train, X_test, y_train, y_test = train_test_split(X_kbest_features, y, test_size = 0.2)\n",
    "print(X_train.shape)\n",
    "print(y_train.shape)\n",
    "print(X_test.shape)\n",
    "print(y_test.shape)"
   ]
  },
  {
   "cell_type": "code",
   "execution_count": null,
   "metadata": {},
   "outputs": [],
   "source": [
    "from sklearn import preprocessing\n",
    "lab_enc = preprocessing.LabelEncoder()\n",
    "y_train = lab_enc.fit_transform(y_train)\n",
    "from sklearn.preprocessing import StandardScaler\n",
    "sc=StandardScaler()\n",
    "X_train = sc.fit_transform(X_train)\n",
    "X_test = sc.fit_transform(X_test)"
   ]
  },
  {
   "cell_type": "markdown",
   "metadata": {},
   "source": [
    "# KNN"
   ]
  },
  {
   "cell_type": "code",
   "execution_count": null,
   "metadata": {
    "scrolled": true
   },
   "outputs": [],
   "source": [
    "from sklearn.neighbors import KNeighborsClassifier\n",
    "classifier = KNeighborsClassifier(n_neighbors = 7, metric = 'minkowski', p = 2)\n",
    "classifier.fit(X_train, y_train)\n",
    "y_pred = classifier.predict(X_test)\n",
    "X_test = pd.DataFrame(X_test)\n",
    "for i in y_pred:\n",
    "    print('{}'.format(i),end='\\t')\n",
    "len(y_pred) \n",
    "print(y_pred.shape)"
   ]
  },
  {
   "cell_type": "code",
   "execution_count": null,
   "metadata": {},
   "outputs": [],
   "source": [
    "from sklearn import metrics\n",
    "print(\"Accuracy=\",metrics.accuracy_score(y_test,y_pred))"
   ]
  },
  {
   "cell_type": "code",
   "execution_count": null,
   "metadata": {},
   "outputs": [],
   "source": [
    "from sklearn.metrics import classification_report\n",
    "print(classification_report(y_test, y_pred))"
   ]
  },
  {
   "cell_type": "code",
   "execution_count": null,
   "metadata": {
    "scrolled": false
   },
   "outputs": [],
   "source": [
    "y_pred=pd.DataFrame(y_pred)\n",
    "num = [int(i) for i in range(0,49)]\n",
    "import matplotlib.pyplot as plt\n",
    "A=y_test.iloc[21:70,:]\n",
    "B=y_pred.iloc[21:70,:]\n",
    "\n",
    "plt.plot(num, A, color='r')\n",
    "plt.plot(num, B, color='b')\n",
    "plt.show()"
   ]
  },
  {
   "cell_type": "markdown",
   "metadata": {},
   "source": [
    "# Decision Tree"
   ]
  },
  {
   "cell_type": "code",
   "execution_count": null,
   "metadata": {},
   "outputs": [],
   "source": [
    "from sklearn.metrics import precision_score\n",
    "from sklearn.metrics import recall_score\n",
    "from sklearn.metrics import accuracy_score\n",
    "clf = DecisionTreeClassifier()\n",
    "clf = clf.fit(X_train,y_train)\n",
    "y_pred = clf.predict(X_test)\n",
    "\n",
    "print(\"Accuracy=\",metrics.accuracy_score(y_test,y_pred))\n",
    "\n",
    "clf = DecisionTreeClassifier(criterion = \"entropy\", max_depth = 3, min_samples_leaf = 5)\n",
    "clf = clf.fit(X_train,y_train)\n",
    "y_pred = clf.predict(X_test)\n",
    "#print(\"Accuracy_k13\",metrics.precision_score(y_test,y_pred))\n",
    "print(\"Precision Score : \",precision_score(y_test, y_pred, \n",
    "                                           pos_label='positive',average='micro'))\n",
    "print(\"Recall Score : \",recall_score(y_test, y_pred, \n",
    "                                           pos_label='positive',average='micro'))\n",
    "from sklearn.metrics import classification_report\n",
    "print(classification_report(y_test, y_pred))\n",
    "y_pred=pd.DataFrame(y_pred)\n",
    "num = [int(i) for i in range(0,49)]\n",
    "A=y_test.iloc[21:70,:]\n",
    "B=y_pred.iloc[21:70,:]\n",
    "plt.plot(num, A, color='r')\n",
    "plt.plot(num, B, color='g')\n",
    "plt.show()"
   ]
  },
  {
   "cell_type": "code",
   "execution_count": null,
   "metadata": {},
   "outputs": [],
   "source": [
    "clf = DecisionTreeClassifier(criterion = \"gini\", max_depth = 3, min_samples_leaf = 5)\n",
    "clf = clf.fit(X_train,y_train)\n",
    "y_pred = clf.predict(X_test)\n",
    "print(\"Accuracy : \",accuracy_score(y_test, y_pred))\n",
    "print(\"Precision Score : \",precision_score(y_test, y_pred, \n",
    "                                           pos_label='positive',average='micro'))\n",
    "print(\"Recall Score : \",recall_score(y_test, y_pred, \n",
    "                                           pos_label='positive',average='micro'))\n",
    "from sklearn.metrics import classification_report\n",
    "print(classification_report(y_test, y_pred))\n",
    "y_pred=pd.DataFrame(y_pred)\n",
    "num = [int(i) for i in range(0,49)]\n",
    "A=y_test.iloc[21:70,:]\n",
    "B=y_pred.iloc[21:70,:]\n",
    "\n",
    "plt.plot(num, A, color='r')\n",
    "plt.plot(num, B, color='magenta')\n",
    "plt.show()"
   ]
  }
 ],
 "metadata": {
  "kernelspec": {
   "display_name": "Python 3",
   "language": "python",
   "name": "python3"
  },
  "language_info": {
   "codemirror_mode": {
    "name": "ipython",
    "version": 3
   },
   "file_extension": ".py",
   "mimetype": "text/x-python",
   "name": "python",
   "nbconvert_exporter": "python",
   "pygments_lexer": "ipython3",
   "version": "3.7.1"
  }
 },
 "nbformat": 4,
 "nbformat_minor": 2
}
